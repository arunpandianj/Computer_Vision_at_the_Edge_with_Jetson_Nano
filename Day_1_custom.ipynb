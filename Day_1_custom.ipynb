{
  "nbformat": 4,
  "nbformat_minor": 0,
  "metadata": {
    "colab": {
      "name": "Day_1_custom.ipynb",
      "provenance": [],
      "collapsed_sections": []
    },
    "kernelspec": {
      "name": "python3",
      "display_name": "Python 3"
    }
  },
  "cells": [
    {
      "cell_type": "markdown",
      "metadata": {
        "id": "wP2uSsJeNCbV"
      },
      "source": [
        "#Part 0 - Installation"
      ]
    },
    {
      "cell_type": "code",
      "metadata": {
        "id": "rQ5RoUxNJN86"
      },
      "source": [
        "!pip install tensorflow==1.15.0\n",
        "!pip install keras==2.1.4"
      ],
      "execution_count": null,
      "outputs": []
    },
    {
      "cell_type": "markdown",
      "metadata": {
        "id": "0QLbvRQKM_2d"
      },
      "source": [
        "#Part 1 : Building a CNN"
      ]
    },
    {
      "cell_type": "code",
      "metadata": {
        "id": "_qGAJ_2rHWm5"
      },
      "source": [
        "\n",
        "\n",
        "#import Keras packages\n",
        "import tensorflow as tf\n",
        "from keras.models import Sequential\n",
        "from keras.layers import Convolution2D\n",
        "from keras.layers import MaxPooling2D\n",
        "from keras.layers import Flatten\n",
        "from keras.layers import Dense\n",
        "from keras.layers import Dropout\n",
        "import numpy as np"
      ],
      "execution_count": null,
      "outputs": []
    },
    {
      "cell_type": "code",
      "metadata": {
        "id": "a642aDWJIUN1"
      },
      "source": [
        "# Initializing the CNN\n",
        "np.random.seed(1337)\n",
        "classifier = Sequential()\n",
        "\n",
        "classifier.add(Convolution2D(32, 3, 3, input_shape = (128, 128, 3), activation = 'relu'))\n",
        "classifier.add(MaxPooling2D(pool_size = (2, 2)))\n",
        "\n",
        "classifier.add(Flatten())"
      ],
      "execution_count": null,
      "outputs": []
    },
    {
      "cell_type": "code",
      "metadata": {
        "id": "PfzurCMWKsPe"
      },
      "source": [
        "#hidden layer\n",
        "classifier.add(Dense(output_dim = 1024, activation = 'relu'))\n",
        "classifier.add(Dense(output_dim = 1024, activation = 'relu'))"
      ],
      "execution_count": null,
      "outputs": []
    },
    {
      "cell_type": "code",
      "metadata": {
        "id": "KXWD4fyuKxfT"
      },
      "source": [
        "#output layer\n",
        "classifier.add(Dense(output_dim = 4, activation = 'softmax'))"
      ],
      "execution_count": null,
      "outputs": []
    },
    {
      "cell_type": "code",
      "metadata": {
        "id": "XEvYq3DtKz6K"
      },
      "source": [
        "classifier.compile(optimizer = 'adam', loss = 'categorical_crossentropy', metrics = ['accuracy'])\n",
        "print(classifier.summary())"
      ],
      "execution_count": null,
      "outputs": []
    },
    {
      "cell_type": "markdown",
      "metadata": {
        "id": "yk80OcqtOF5C"
      },
      "source": [
        "#Part 2 - Fitting the data set"
      ]
    },
    {
      "cell_type": "code",
      "metadata": {
        "id": "kSLPPNvZMCz3"
      },
      "source": [
        "!unzip \"/content/data.zip\""
      ],
      "execution_count": null,
      "outputs": []
    },
    {
      "cell_type": "code",
      "metadata": {
        "id": "_Ho7NRc3K2uq"
      },
      "source": [
        "from keras.preprocessing.image import ImageDataGenerator\n",
        "\n",
        "train_datagen = ImageDataGenerator(\n",
        "        rescale=1./255,\n",
        "        shear_range=0.2,\n",
        "        zoom_range=0.2,\n",
        "        horizontal_flip=True)\n",
        "\n",
        "test_datagen = ImageDataGenerator(rescale=1./255)"
      ],
      "execution_count": null,
      "outputs": []
    },
    {
      "cell_type": "code",
      "metadata": {
        "id": "gE7PFzbTLJ2s"
      },
      "source": [
        "training_set = train_datagen.flow_from_directory(\n",
        "        '/content/data/train',\n",
        "        target_size=(128, 128),\n",
        "        batch_size=16,\n",
        "        class_mode='categorical' )\n",
        "label_map = (training_set.class_indices)\n",
        "\n",
        "test_set = test_datagen.flow_from_directory(\n",
        "        '/content/data/val',\n",
        "        target_size=(128, 128),\n",
        "        batch_size=16,\n",
        "        class_mode='categorical')"
      ],
      "execution_count": null,
      "outputs": []
    },
    {
      "cell_type": "code",
      "metadata": {
        "id": "Vbjl-HdcLP9J"
      },
      "source": [
        "history = classifier.fit_generator(\n",
        "        training_set,\n",
        "        steps_per_epoch=20,\n",
        "        epochs=20,        \n",
        "        validation_data=test_set,\n",
        "        validation_steps=100)"
      ],
      "execution_count": null,
      "outputs": []
    },
    {
      "cell_type": "code",
      "metadata": {
        "id": "ORUje_DYSMhh"
      },
      "source": [
        "history"
      ],
      "execution_count": null,
      "outputs": []
    },
    {
      "cell_type": "markdown",
      "metadata": {
        "id": "G-guECRmNptR"
      },
      "source": [
        "#Part 3 - Save Model"
      ]
    },
    {
      "cell_type": "code",
      "metadata": {
        "id": "RJ0Qt-hrLEtE"
      },
      "source": [
        "import h5py\n",
        "\n",
        "classifier.save('saved_model')\n",
        "print('Saved trained model as %s ' % 'saved_model.h5')"
      ],
      "execution_count": null,
      "outputs": []
    },
    {
      "cell_type": "markdown",
      "metadata": {
        "id": "fedLcF1aWbWa"
      },
      "source": [
        "#Part 4 - Visualization"
      ]
    },
    {
      "cell_type": "code",
      "metadata": {
        "id": "2F2e6MsyS0jP"
      },
      "source": [
        "import matplotlib.pyplot as plt\n",
        "\n",
        "# Plot history: MAE\n",
        "plt.plot(history.history['val_acc'], label='Val Accuracy')\n",
        "plt.plot(history.history['val_loss'], label='Val Loss')\n",
        "plt.title('Persormance')\n",
        "plt.ylabel('value')\n",
        "plt.xlabel('No. epoch')\n",
        "plt.legend(loc=\"upper left\")\n",
        "plt.show()"
      ],
      "execution_count": null,
      "outputs": []
    },
    {
      "cell_type": "markdown",
      "metadata": {
        "id": "qgfSa--hXDvc"
      },
      "source": [
        "#"
      ]
    }
  ]
}