{
  "nbformat": 4,
  "nbformat_minor": 0,
  "metadata": {
    "colab": {
      "name": "Day_1_custom.ipynb",
      "provenance": [],
      "collapsed_sections": []
    },
    "kernelspec": {
      "name": "python3",
      "display_name": "Python 3"
    }
  },
  "cells": [
    {
      "cell_type": "markdown",
      "metadata": {
        "id": "wP2uSsJeNCbV"
      },
      "source": [
        "#Part 0 - Installation"
      ]
    },
    {
      "cell_type": "code",
      "metadata": {
        "id": "rQ5RoUxNJN86",
        "outputId": "3ec6ee66-9a5e-4d56-9f76-66638b6fa5b5",
        "colab": {
          "base_uri": "https://localhost:8080/"
        }
      },
      "source": [
        "!pip install tensorflow==1.15.0\n",
        "!pip install keras==2.1.4"
      ],
      "execution_count": 1,
      "outputs": [
        {
          "output_type": "stream",
          "text": [
            "Collecting tensorflow==1.15.0\n",
            "\u001b[?25l  Downloading https://files.pythonhosted.org/packages/3f/98/5a99af92fb911d7a88a0005ad55005f35b4c1ba8d75fba02df726cd936e6/tensorflow-1.15.0-cp36-cp36m-manylinux2010_x86_64.whl (412.3MB)\n",
            "\u001b[K     |████████████████████████████████| 412.3MB 40kB/s \n",
            "\u001b[?25hCollecting tensorflow-estimator==1.15.1\n",
            "\u001b[?25l  Downloading https://files.pythonhosted.org/packages/de/62/2ee9cd74c9fa2fa450877847ba560b260f5d0fb70ee0595203082dafcc9d/tensorflow_estimator-1.15.1-py2.py3-none-any.whl (503kB)\n",
            "\u001b[K     |████████████████████████████████| 512kB 52.6MB/s \n",
            "\u001b[?25hRequirement already satisfied: grpcio>=1.8.6 in /usr/local/lib/python3.6/dist-packages (from tensorflow==1.15.0) (1.33.2)\n",
            "Requirement already satisfied: astor>=0.6.0 in /usr/local/lib/python3.6/dist-packages (from tensorflow==1.15.0) (0.8.1)\n",
            "Requirement already satisfied: wrapt>=1.11.1 in /usr/local/lib/python3.6/dist-packages (from tensorflow==1.15.0) (1.12.1)\n",
            "Requirement already satisfied: opt-einsum>=2.3.2 in /usr/local/lib/python3.6/dist-packages (from tensorflow==1.15.0) (3.3.0)\n",
            "Requirement already satisfied: keras-preprocessing>=1.0.5 in /usr/local/lib/python3.6/dist-packages (from tensorflow==1.15.0) (1.1.2)\n",
            "Collecting gast==0.2.2\n",
            "  Downloading https://files.pythonhosted.org/packages/4e/35/11749bf99b2d4e3cceb4d55ca22590b0d7c2c62b9de38ac4a4a7f4687421/gast-0.2.2.tar.gz\n",
            "Collecting tensorboard<1.16.0,>=1.15.0\n",
            "\u001b[?25l  Downloading https://files.pythonhosted.org/packages/1e/e9/d3d747a97f7188f48aa5eda486907f3b345cd409f0a0850468ba867db246/tensorboard-1.15.0-py3-none-any.whl (3.8MB)\n",
            "\u001b[K     |████████████████████████████████| 3.8MB 48.3MB/s \n",
            "\u001b[?25hRequirement already satisfied: protobuf>=3.6.1 in /usr/local/lib/python3.6/dist-packages (from tensorflow==1.15.0) (3.12.4)\n",
            "Requirement already satisfied: wheel>=0.26 in /usr/local/lib/python3.6/dist-packages (from tensorflow==1.15.0) (0.35.1)\n",
            "Requirement already satisfied: numpy<2.0,>=1.16.0 in /usr/local/lib/python3.6/dist-packages (from tensorflow==1.15.0) (1.18.5)\n",
            "Requirement already satisfied: google-pasta>=0.1.6 in /usr/local/lib/python3.6/dist-packages (from tensorflow==1.15.0) (0.2.0)\n",
            "Requirement already satisfied: termcolor>=1.1.0 in /usr/local/lib/python3.6/dist-packages (from tensorflow==1.15.0) (1.1.0)\n",
            "Requirement already satisfied: six>=1.10.0 in /usr/local/lib/python3.6/dist-packages (from tensorflow==1.15.0) (1.15.0)\n",
            "Requirement already satisfied: absl-py>=0.7.0 in /usr/local/lib/python3.6/dist-packages (from tensorflow==1.15.0) (0.10.0)\n",
            "Collecting keras-applications>=1.0.8\n",
            "\u001b[?25l  Downloading https://files.pythonhosted.org/packages/71/e3/19762fdfc62877ae9102edf6342d71b28fbfd9dea3d2f96a882ce099b03f/Keras_Applications-1.0.8-py3-none-any.whl (50kB)\n",
            "\u001b[K     |████████████████████████████████| 51kB 4.7MB/s \n",
            "\u001b[?25hRequirement already satisfied: markdown>=2.6.8 in /usr/local/lib/python3.6/dist-packages (from tensorboard<1.16.0,>=1.15.0->tensorflow==1.15.0) (3.3.3)\n",
            "Requirement already satisfied: setuptools>=41.0.0 in /usr/local/lib/python3.6/dist-packages (from tensorboard<1.16.0,>=1.15.0->tensorflow==1.15.0) (50.3.2)\n",
            "Requirement already satisfied: werkzeug>=0.11.15 in /usr/local/lib/python3.6/dist-packages (from tensorboard<1.16.0,>=1.15.0->tensorflow==1.15.0) (1.0.1)\n",
            "Requirement already satisfied: h5py in /usr/local/lib/python3.6/dist-packages (from keras-applications>=1.0.8->tensorflow==1.15.0) (2.10.0)\n",
            "Requirement already satisfied: importlib-metadata; python_version < \"3.8\" in /usr/local/lib/python3.6/dist-packages (from markdown>=2.6.8->tensorboard<1.16.0,>=1.15.0->tensorflow==1.15.0) (2.0.0)\n",
            "Requirement already satisfied: zipp>=0.5 in /usr/local/lib/python3.6/dist-packages (from importlib-metadata; python_version < \"3.8\"->markdown>=2.6.8->tensorboard<1.16.0,>=1.15.0->tensorflow==1.15.0) (3.4.0)\n",
            "Building wheels for collected packages: gast\n",
            "  Building wheel for gast (setup.py) ... \u001b[?25l\u001b[?25hdone\n",
            "  Created wheel for gast: filename=gast-0.2.2-cp36-none-any.whl size=7542 sha256=aadaccde2232ec6c13247b2274ef21ac8f61941866954c71328df096798fb97d\n",
            "  Stored in directory: /root/.cache/pip/wheels/5c/2e/7e/a1d4d4fcebe6c381f378ce7743a3ced3699feb89bcfbdadadd\n",
            "Successfully built gast\n",
            "\u001b[31mERROR: tensorflow-probability 0.11.0 has requirement gast>=0.3.2, but you'll have gast 0.2.2 which is incompatible.\u001b[0m\n",
            "Installing collected packages: tensorflow-estimator, gast, tensorboard, keras-applications, tensorflow\n",
            "  Found existing installation: tensorflow-estimator 2.3.0\n",
            "    Uninstalling tensorflow-estimator-2.3.0:\n",
            "      Successfully uninstalled tensorflow-estimator-2.3.0\n",
            "  Found existing installation: gast 0.3.3\n",
            "    Uninstalling gast-0.3.3:\n",
            "      Successfully uninstalled gast-0.3.3\n",
            "  Found existing installation: tensorboard 2.3.0\n",
            "    Uninstalling tensorboard-2.3.0:\n",
            "      Successfully uninstalled tensorboard-2.3.0\n",
            "  Found existing installation: tensorflow 2.3.0\n",
            "    Uninstalling tensorflow-2.3.0:\n",
            "      Successfully uninstalled tensorflow-2.3.0\n",
            "Successfully installed gast-0.2.2 keras-applications-1.0.8 tensorboard-1.15.0 tensorflow-1.15.0 tensorflow-estimator-1.15.1\n",
            "Collecting keras==2.1.4\n",
            "\u001b[?25l  Downloading https://files.pythonhosted.org/packages/86/45/a273fe3f8fe931a11da34fba1cb74013cfc70dcf93e5d8d329c951dc44c5/Keras-2.1.4-py2.py3-none-any.whl (322kB)\n",
            "\u001b[K     |████████████████████████████████| 327kB 7.9MB/s \n",
            "\u001b[?25hRequirement already satisfied: six>=1.9.0 in /usr/local/lib/python3.6/dist-packages (from keras==2.1.4) (1.15.0)\n",
            "Requirement already satisfied: numpy>=1.9.1 in /usr/local/lib/python3.6/dist-packages (from keras==2.1.4) (1.18.5)\n",
            "Requirement already satisfied: pyyaml in /usr/local/lib/python3.6/dist-packages (from keras==2.1.4) (3.13)\n",
            "Requirement already satisfied: scipy>=0.14 in /usr/local/lib/python3.6/dist-packages (from keras==2.1.4) (1.4.1)\n",
            "\u001b[31mERROR: textgenrnn 1.4.1 has requirement keras>=2.1.5, but you'll have keras 2.1.4 which is incompatible.\u001b[0m\n",
            "Installing collected packages: keras\n",
            "  Found existing installation: Keras 2.4.3\n",
            "    Uninstalling Keras-2.4.3:\n",
            "      Successfully uninstalled Keras-2.4.3\n",
            "Successfully installed keras-2.1.4\n"
          ],
          "name": "stdout"
        }
      ]
    },
    {
      "cell_type": "markdown",
      "metadata": {
        "id": "0QLbvRQKM_2d"
      },
      "source": [
        "#Part 1 : Building a CNN"
      ]
    },
    {
      "cell_type": "code",
      "metadata": {
        "id": "_qGAJ_2rHWm5",
        "outputId": "05a1afbd-7047-40ae-e280-1157ca163e41",
        "colab": {
          "base_uri": "https://localhost:8080/"
        }
      },
      "source": [
        "\n",
        "\n",
        "#import Keras packages\n",
        "import tensorflow as tf\n",
        "from keras.models import Sequential\n",
        "from keras.layers import Convolution2D\n",
        "from keras.layers import MaxPooling2D\n",
        "from keras.layers import Flatten\n",
        "from keras.layers import Dense\n",
        "from keras.layers import Dropout\n",
        "import numpy as np"
      ],
      "execution_count": 2,
      "outputs": [
        {
          "output_type": "stream",
          "text": [
            "Using TensorFlow backend.\n"
          ],
          "name": "stderr"
        }
      ]
    },
    {
      "cell_type": "code",
      "metadata": {
        "id": "a642aDWJIUN1",
        "outputId": "8ed8a119-bab0-4aed-ee23-7e9129cea83c",
        "colab": {
          "base_uri": "https://localhost:8080/"
        }
      },
      "source": [
        "# Initializing the CNN\n",
        "np.random.seed(1337)\n",
        "classifier = Sequential()\n",
        "\n",
        "classifier.add(Convolution2D(32, 3, 3, input_shape = (128, 128, 3), activation = 'relu'))\n",
        "classifier.add(MaxPooling2D(pool_size = (2, 2)))\n",
        "\n",
        "classifier.add(Flatten())"
      ],
      "execution_count": 3,
      "outputs": [
        {
          "output_type": "stream",
          "text": [
            "WARNING:tensorflow:From /usr/local/lib/python3.6/dist-packages/keras/backend/tensorflow_backend.py:68: The name tf.get_default_graph is deprecated. Please use tf.compat.v1.get_default_graph instead.\n",
            "\n",
            "WARNING:tensorflow:From /usr/local/lib/python3.6/dist-packages/keras/backend/tensorflow_backend.py:504: The name tf.placeholder is deprecated. Please use tf.compat.v1.placeholder instead.\n",
            "\n",
            "WARNING:tensorflow:From /usr/local/lib/python3.6/dist-packages/keras/backend/tensorflow_backend.py:3828: The name tf.random_uniform is deprecated. Please use tf.random.uniform instead.\n",
            "\n",
            "WARNING:tensorflow:From /usr/local/lib/python3.6/dist-packages/keras/backend/tensorflow_backend.py:3652: The name tf.nn.max_pool is deprecated. Please use tf.nn.max_pool2d instead.\n",
            "\n"
          ],
          "name": "stdout"
        },
        {
          "output_type": "stream",
          "text": [
            "/usr/local/lib/python3.6/dist-packages/ipykernel_launcher.py:5: UserWarning: Update your `Conv2D` call to the Keras 2 API: `Conv2D(32, (3, 3), input_shape=(128, 128,..., activation=\"relu\")`\n",
            "  \"\"\"\n"
          ],
          "name": "stderr"
        }
      ]
    },
    {
      "cell_type": "code",
      "metadata": {
        "id": "PfzurCMWKsPe",
        "outputId": "2c3b97f2-a914-45d9-c4a0-a306c7ba70f9",
        "colab": {
          "base_uri": "https://localhost:8080/"
        }
      },
      "source": [
        "#hidden layer\n",
        "classifier.add(Dense(output_dim = 1024, activation = 'relu'))\n",
        "classifier.add(Dense(output_dim = 1024, activation = 'relu'))"
      ],
      "execution_count": 4,
      "outputs": [
        {
          "output_type": "stream",
          "text": [
            "/usr/local/lib/python3.6/dist-packages/ipykernel_launcher.py:2: UserWarning: Update your `Dense` call to the Keras 2 API: `Dense(activation=\"relu\", units=1024)`\n",
            "  \n",
            "/usr/local/lib/python3.6/dist-packages/ipykernel_launcher.py:3: UserWarning: Update your `Dense` call to the Keras 2 API: `Dense(activation=\"relu\", units=1024)`\n",
            "  This is separate from the ipykernel package so we can avoid doing imports until\n"
          ],
          "name": "stderr"
        }
      ]
    },
    {
      "cell_type": "code",
      "metadata": {
        "id": "KXWD4fyuKxfT",
        "outputId": "21ab967d-3012-4cc0-ff10-51658aa8cf55",
        "colab": {
          "base_uri": "https://localhost:8080/"
        }
      },
      "source": [
        "#output layer\n",
        "classifier.add(Dense(output_dim = 2, activation = 'softmax'))"
      ],
      "execution_count": 5,
      "outputs": [
        {
          "output_type": "stream",
          "text": [
            "/usr/local/lib/python3.6/dist-packages/ipykernel_launcher.py:2: UserWarning: Update your `Dense` call to the Keras 2 API: `Dense(activation=\"softmax\", units=2)`\n",
            "  \n"
          ],
          "name": "stderr"
        }
      ]
    },
    {
      "cell_type": "code",
      "metadata": {
        "id": "XEvYq3DtKz6K",
        "outputId": "5d6c6b58-094b-4a5c-e8e1-c67b420625aa",
        "colab": {
          "base_uri": "https://localhost:8080/"
        }
      },
      "source": [
        "classifier.compile(optimizer = 'adam', loss = 'categorical_crossentropy', metrics = ['accuracy'])\n",
        "print(classifier.summary())"
      ],
      "execution_count": 6,
      "outputs": [
        {
          "output_type": "stream",
          "text": [
            "WARNING:tensorflow:From /usr/local/lib/python3.6/dist-packages/keras/optimizers.py:752: The name tf.train.Optimizer is deprecated. Please use tf.compat.v1.train.Optimizer instead.\n",
            "\n",
            "WARNING:tensorflow:From /usr/local/lib/python3.6/dist-packages/keras/backend/tensorflow_backend.py:3005: The name tf.log is deprecated. Please use tf.math.log instead.\n",
            "\n",
            "_________________________________________________________________\n",
            "Layer (type)                 Output Shape              Param #   \n",
            "=================================================================\n",
            "conv2d_1 (Conv2D)            (None, 126, 126, 32)      896       \n",
            "_________________________________________________________________\n",
            "max_pooling2d_1 (MaxPooling2 (None, 63, 63, 32)        0         \n",
            "_________________________________________________________________\n",
            "flatten_1 (Flatten)          (None, 127008)            0         \n",
            "_________________________________________________________________\n",
            "dense_1 (Dense)              (None, 1024)              130057216 \n",
            "_________________________________________________________________\n",
            "dense_2 (Dense)              (None, 1024)              1049600   \n",
            "_________________________________________________________________\n",
            "dense_3 (Dense)              (None, 2)                 2050      \n",
            "=================================================================\n",
            "Total params: 131,109,762\n",
            "Trainable params: 131,109,762\n",
            "Non-trainable params: 0\n",
            "_________________________________________________________________\n",
            "None\n"
          ],
          "name": "stdout"
        }
      ]
    },
    {
      "cell_type": "markdown",
      "metadata": {
        "id": "yk80OcqtOF5C"
      },
      "source": [
        "#Part 2 - Fitting the data set"
      ]
    },
    {
      "cell_type": "code",
      "metadata": {
        "id": "kSLPPNvZMCz3",
        "outputId": "4cb0ceeb-c09c-4983-dbf4-e7e0d2c8c213",
        "colab": {
          "base_uri": "https://localhost:8080/"
        }
      },
      "source": [
        "!unzip \"/content/data.zip\""
      ],
      "execution_count": 7,
      "outputs": [
        {
          "output_type": "stream",
          "text": [
            "Archive:  /content/data.zip\n",
            "   creating: data/\n",
            "   creating: data/train/\n",
            "   creating: data/train/cats/\n",
            "  inflating: data/train/cats/cat.1.jpg  \n",
            "  inflating: data/train/cats/cat.10.jpg  \n",
            "  inflating: data/train/cats/cat.100.jpg  \n",
            "  inflating: data/train/cats/cat.101.jpg  \n",
            "  inflating: data/train/cats/cat.102.jpg  \n",
            "  inflating: data/train/cats/cat.103.jpg  \n",
            "  inflating: data/train/cats/cat.104.jpg  \n",
            "  inflating: data/train/cats/cat.105.jpg  \n",
            "  inflating: data/train/cats/cat.106.jpg  \n",
            "  inflating: data/train/cats/cat.107.jpg  \n",
            "  inflating: data/train/cats/cat.108.jpg  \n",
            "  inflating: data/train/cats/cat.109.jpg  \n",
            "  inflating: data/train/cats/cat.11.jpg  \n",
            "  inflating: data/train/cats/cat.110.jpg  \n",
            "  inflating: data/train/cats/cat.111.jpg  \n",
            "  inflating: data/train/cats/cat.112.jpg  \n",
            "  inflating: data/train/cats/cat.113.jpg  \n",
            "  inflating: data/train/cats/cat.114.jpg  \n",
            "  inflating: data/train/cats/cat.115.jpg  \n",
            "  inflating: data/train/cats/cat.116.jpg  \n",
            "  inflating: data/train/cats/cat.117.jpg  \n",
            "  inflating: data/train/cats/cat.118.jpg  \n",
            "  inflating: data/train/cats/cat.119.jpg  \n",
            "  inflating: data/train/cats/cat.12.jpg  \n",
            "  inflating: data/train/cats/cat.120.jpg  \n",
            "  inflating: data/train/cats/cat.121.jpg  \n",
            "  inflating: data/train/cats/cat.122.jpg  \n",
            "  inflating: data/train/cats/cat.123.jpg  \n",
            "  inflating: data/train/cats/cat.124.jpg  \n",
            "  inflating: data/train/cats/cat.125.jpg  \n",
            "  inflating: data/train/cats/cat.126.jpg  \n",
            "  inflating: data/train/cats/cat.127.jpg  \n",
            "  inflating: data/train/cats/cat.128.jpg  \n",
            "  inflating: data/train/cats/cat.129.jpg  \n",
            "  inflating: data/train/cats/cat.13.jpg  \n",
            "  inflating: data/train/cats/cat.130.jpg  \n",
            "  inflating: data/train/cats/cat.131.jpg  \n",
            "  inflating: data/train/cats/cat.132.jpg  \n",
            "  inflating: data/train/cats/cat.133.jpg  \n",
            "  inflating: data/train/cats/cat.134.jpg  \n",
            "  inflating: data/train/cats/cat.135.jpg  \n",
            "  inflating: data/train/cats/cat.136.jpg  \n",
            "  inflating: data/train/cats/cat.137.jpg  \n",
            "  inflating: data/train/cats/cat.138.jpg  \n",
            "  inflating: data/train/cats/cat.139.jpg  \n",
            "  inflating: data/train/cats/cat.14.jpg  \n",
            "  inflating: data/train/cats/cat.140.jpg  \n",
            "  inflating: data/train/cats/cat.141.jpg  \n",
            "  inflating: data/train/cats/cat.142.jpg  \n",
            "  inflating: data/train/cats/cat.143.jpg  \n",
            "  inflating: data/train/cats/cat.144.jpg  \n",
            "  inflating: data/train/cats/cat.145.jpg  \n",
            "  inflating: data/train/cats/cat.146.jpg  \n",
            "  inflating: data/train/cats/cat.147.jpg  \n",
            "  inflating: data/train/cats/cat.148.jpg  \n",
            "  inflating: data/train/cats/cat.149.jpg  \n",
            "  inflating: data/train/cats/cat.15.jpg  \n",
            "  inflating: data/train/cats/cat.150.jpg  \n",
            "  inflating: data/train/cats/cat.151.jpg  \n",
            "  inflating: data/train/cats/cat.152.jpg  \n",
            "  inflating: data/train/cats/cat.153.jpg  \n",
            "  inflating: data/train/cats/cat.154.jpg  \n",
            "  inflating: data/train/cats/cat.155.jpg  \n",
            "  inflating: data/train/cats/cat.156.jpg  \n",
            "  inflating: data/train/cats/cat.157.jpg  \n",
            "  inflating: data/train/cats/cat.158.jpg  \n",
            "  inflating: data/train/cats/cat.159.jpg  \n",
            "  inflating: data/train/cats/cat.16.jpg  \n",
            "  inflating: data/train/cats/cat.160.jpg  \n",
            "  inflating: data/train/cats/cat.161.jpg  \n",
            "  inflating: data/train/cats/cat.162.jpg  \n",
            "  inflating: data/train/cats/cat.163.jpg  \n",
            "  inflating: data/train/cats/cat.164.jpg  \n",
            "  inflating: data/train/cats/cat.165.jpg  \n",
            "  inflating: data/train/cats/cat.166.jpg  \n",
            "  inflating: data/train/cats/cat.167.jpg  \n",
            "  inflating: data/train/cats/cat.168.jpg  \n",
            "  inflating: data/train/cats/cat.169.jpg  \n",
            "  inflating: data/train/cats/cat.17.jpg  \n",
            "  inflating: data/train/cats/cat.170.jpg  \n",
            "  inflating: data/train/cats/cat.171.jpg  \n",
            "  inflating: data/train/cats/cat.172.jpg  \n",
            "  inflating: data/train/cats/cat.173.jpg  \n",
            "  inflating: data/train/cats/cat.174.jpg  \n",
            "  inflating: data/train/cats/cat.175.jpg  \n",
            "  inflating: data/train/cats/cat.176.jpg  \n",
            "  inflating: data/train/cats/cat.177.jpg  \n",
            "  inflating: data/train/cats/cat.178.jpg  \n",
            "  inflating: data/train/cats/cat.179.jpg  \n",
            "  inflating: data/train/cats/cat.18.jpg  \n",
            "  inflating: data/train/cats/cat.180.jpg  \n",
            "  inflating: data/train/cats/cat.19.jpg  \n",
            "  inflating: data/train/cats/cat.2.jpg  \n",
            "  inflating: data/train/cats/cat.20.jpg  \n",
            "  inflating: data/train/cats/cat.21.jpg  \n",
            "  inflating: data/train/cats/cat.22.jpg  \n",
            "  inflating: data/train/cats/cat.23.jpg  \n",
            "  inflating: data/train/cats/cat.24.jpg  \n",
            "  inflating: data/train/cats/cat.25.jpg  \n",
            "  inflating: data/train/cats/cat.26.jpg  \n",
            "  inflating: data/train/cats/cat.27.jpg  \n",
            "  inflating: data/train/cats/cat.28.jpg  \n",
            "  inflating: data/train/cats/cat.29.jpg  \n",
            "  inflating: data/train/cats/cat.3.jpg  \n",
            "  inflating: data/train/cats/cat.30.jpg  \n",
            "  inflating: data/train/cats/cat.31.jpg  \n",
            "  inflating: data/train/cats/cat.32.jpg  \n",
            "  inflating: data/train/cats/cat.33.jpg  \n",
            "  inflating: data/train/cats/cat.34.jpg  \n",
            "  inflating: data/train/cats/cat.35.jpg  \n",
            "  inflating: data/train/cats/cat.36.jpg  \n",
            "  inflating: data/train/cats/cat.37.jpg  \n",
            "  inflating: data/train/cats/cat.38.jpg  \n",
            "  inflating: data/train/cats/cat.39.jpg  \n",
            "  inflating: data/train/cats/cat.4.jpg  \n",
            "  inflating: data/train/cats/cat.40.jpg  \n",
            "  inflating: data/train/cats/cat.41.jpg  \n",
            "  inflating: data/train/cats/cat.42.jpg  \n",
            "  inflating: data/train/cats/cat.43.jpg  \n",
            "  inflating: data/train/cats/cat.44.jpg  \n",
            "  inflating: data/train/cats/cat.45.jpg  \n",
            "  inflating: data/train/cats/cat.46.jpg  \n",
            "  inflating: data/train/cats/cat.47.jpg  \n",
            "  inflating: data/train/cats/cat.48.jpg  \n",
            "  inflating: data/train/cats/cat.49.jpg  \n",
            "  inflating: data/train/cats/cat.5.jpg  \n",
            "  inflating: data/train/cats/cat.50.jpg  \n",
            "  inflating: data/train/cats/cat.51.jpg  \n",
            "  inflating: data/train/cats/cat.52.jpg  \n",
            "  inflating: data/train/cats/cat.53.jpg  \n",
            "  inflating: data/train/cats/cat.54.jpg  \n",
            "  inflating: data/train/cats/cat.55.jpg  \n",
            "  inflating: data/train/cats/cat.56.jpg  \n",
            "  inflating: data/train/cats/cat.57.jpg  \n",
            "  inflating: data/train/cats/cat.58.jpg  \n",
            "  inflating: data/train/cats/cat.59.jpg  \n",
            "  inflating: data/train/cats/cat.6.jpg  \n",
            "  inflating: data/train/cats/cat.60.jpg  \n",
            "  inflating: data/train/cats/cat.61.jpg  \n",
            "  inflating: data/train/cats/cat.62.jpg  \n",
            "  inflating: data/train/cats/cat.63.jpg  \n",
            "  inflating: data/train/cats/cat.64.jpg  \n",
            "  inflating: data/train/cats/cat.65.jpg  \n",
            "  inflating: data/train/cats/cat.66.jpg  \n",
            "  inflating: data/train/cats/cat.67.jpg  \n",
            "  inflating: data/train/cats/cat.68.jpg  \n",
            "  inflating: data/train/cats/cat.69.jpg  \n",
            "  inflating: data/train/cats/cat.7.jpg  \n",
            "  inflating: data/train/cats/cat.70.jpg  \n",
            "  inflating: data/train/cats/cat.71.jpg  \n",
            "  inflating: data/train/cats/cat.72.jpg  \n",
            "  inflating: data/train/cats/cat.73.jpg  \n",
            "  inflating: data/train/cats/cat.74.jpg  \n",
            "  inflating: data/train/cats/cat.75.jpg  \n",
            "  inflating: data/train/cats/cat.76.jpg  \n",
            "  inflating: data/train/cats/cat.77.jpg  \n",
            "  inflating: data/train/cats/cat.78.jpg  \n",
            "  inflating: data/train/cats/cat.79.jpg  \n",
            "  inflating: data/train/cats/cat.8.jpg  \n",
            "  inflating: data/train/cats/cat.80.jpg  \n",
            "  inflating: data/train/cats/cat.81.jpg  \n",
            "  inflating: data/train/cats/cat.82.jpg  \n",
            "  inflating: data/train/cats/cat.83.jpg  \n",
            "  inflating: data/train/cats/cat.84.jpg  \n",
            "  inflating: data/train/cats/cat.85.jpg  \n",
            "  inflating: data/train/cats/cat.86.jpg  \n",
            "  inflating: data/train/cats/cat.87.jpg  \n",
            "  inflating: data/train/cats/cat.88.jpg  \n",
            "  inflating: data/train/cats/cat.89.jpg  \n",
            "  inflating: data/train/cats/cat.9.jpg  \n",
            "  inflating: data/train/cats/cat.90.jpg  \n",
            "  inflating: data/train/cats/cat.91.jpg  \n",
            "  inflating: data/train/cats/cat.92.jpg  \n",
            "  inflating: data/train/cats/cat.93.jpg  \n",
            "  inflating: data/train/cats/cat.94.jpg  \n",
            "  inflating: data/train/cats/cat.95.jpg  \n",
            "  inflating: data/train/cats/cat.96.jpg  \n",
            "  inflating: data/train/cats/cat.97.jpg  \n",
            "  inflating: data/train/cats/cat.98.jpg  \n",
            "  inflating: data/train/cats/cat.99.jpg  \n",
            "   creating: data/train/dogs/\n",
            "  inflating: data/train/dogs/dog.1.jpg  \n",
            "  inflating: data/train/dogs/dog.10.jpg  \n",
            "  inflating: data/train/dogs/dog.100.jpg  \n",
            "  inflating: data/train/dogs/dog.101.jpg  \n",
            "  inflating: data/train/dogs/dog.102.jpg  \n",
            "  inflating: data/train/dogs/dog.103.jpg  \n",
            "  inflating: data/train/dogs/dog.104.jpg  \n",
            "  inflating: data/train/dogs/dog.105.jpg  \n",
            "  inflating: data/train/dogs/dog.106.jpg  \n",
            "  inflating: data/train/dogs/dog.107.jpg  \n",
            "  inflating: data/train/dogs/dog.108.jpg  \n",
            "  inflating: data/train/dogs/dog.109.jpg  \n",
            "  inflating: data/train/dogs/dog.11.jpg  \n",
            "  inflating: data/train/dogs/dog.110.jpg  \n",
            "  inflating: data/train/dogs/dog.111.jpg  \n",
            "  inflating: data/train/dogs/dog.112.jpg  \n",
            "  inflating: data/train/dogs/dog.113.jpg  \n",
            "  inflating: data/train/dogs/dog.114.jpg  \n",
            "  inflating: data/train/dogs/dog.115.jpg  \n",
            "  inflating: data/train/dogs/dog.116.jpg  \n",
            "  inflating: data/train/dogs/dog.117.jpg  \n",
            "  inflating: data/train/dogs/dog.118.jpg  \n",
            "  inflating: data/train/dogs/dog.119.jpg  \n",
            "  inflating: data/train/dogs/dog.12.jpg  \n",
            "  inflating: data/train/dogs/dog.120.jpg  \n",
            "  inflating: data/train/dogs/dog.121.jpg  \n",
            "  inflating: data/train/dogs/dog.122.jpg  \n",
            "  inflating: data/train/dogs/dog.123.jpg  \n",
            "  inflating: data/train/dogs/dog.124.jpg  \n",
            "  inflating: data/train/dogs/dog.125.jpg  \n",
            "  inflating: data/train/dogs/dog.126.jpg  \n",
            "  inflating: data/train/dogs/dog.127.jpg  \n",
            "  inflating: data/train/dogs/dog.128.jpg  \n",
            "  inflating: data/train/dogs/dog.129.jpg  \n",
            "  inflating: data/train/dogs/dog.13.jpg  \n",
            "  inflating: data/train/dogs/dog.130.jpg  \n",
            "  inflating: data/train/dogs/dog.131.jpg  \n",
            "  inflating: data/train/dogs/dog.132.jpg  \n",
            "  inflating: data/train/dogs/dog.133.jpg  \n",
            "  inflating: data/train/dogs/dog.134.jpg  \n",
            "  inflating: data/train/dogs/dog.135.jpg  \n",
            "  inflating: data/train/dogs/dog.136.jpg  \n",
            "  inflating: data/train/dogs/dog.137.jpg  \n",
            "  inflating: data/train/dogs/dog.138.jpg  \n",
            "  inflating: data/train/dogs/dog.139.jpg  \n",
            "  inflating: data/train/dogs/dog.14.jpg  \n",
            "  inflating: data/train/dogs/dog.140.jpg  \n",
            "  inflating: data/train/dogs/dog.141.jpg  \n",
            "  inflating: data/train/dogs/dog.142.jpg  \n",
            "  inflating: data/train/dogs/dog.143.jpg  \n",
            "  inflating: data/train/dogs/dog.144.jpg  \n",
            "  inflating: data/train/dogs/dog.145.jpg  \n",
            "  inflating: data/train/dogs/dog.146.jpg  \n",
            "  inflating: data/train/dogs/dog.147.jpg  \n",
            "  inflating: data/train/dogs/dog.148.jpg  \n",
            "  inflating: data/train/dogs/dog.149.jpg  \n",
            "  inflating: data/train/dogs/dog.15.jpg  \n",
            "  inflating: data/train/dogs/dog.150.jpg  \n",
            "  inflating: data/train/dogs/dog.151.jpg  \n",
            "  inflating: data/train/dogs/dog.152.jpg  \n",
            "  inflating: data/train/dogs/dog.153.jpg  \n",
            "  inflating: data/train/dogs/dog.154.jpg  \n",
            "  inflating: data/train/dogs/dog.155.jpg  \n",
            "  inflating: data/train/dogs/dog.156.jpg  \n",
            "  inflating: data/train/dogs/dog.157.jpg  \n",
            "  inflating: data/train/dogs/dog.158.jpg  \n",
            "  inflating: data/train/dogs/dog.159.jpg  \n",
            "  inflating: data/train/dogs/dog.16.jpg  \n",
            "  inflating: data/train/dogs/dog.160.jpg  \n",
            "  inflating: data/train/dogs/dog.161.jpg  \n",
            "  inflating: data/train/dogs/dog.162.jpg  \n",
            "  inflating: data/train/dogs/dog.163.jpg  \n",
            "  inflating: data/train/dogs/dog.164.jpg  \n",
            "  inflating: data/train/dogs/dog.165.jpg  \n",
            "  inflating: data/train/dogs/dog.166.jpg  \n",
            "  inflating: data/train/dogs/dog.167.jpg  \n",
            "  inflating: data/train/dogs/dog.168.jpg  \n",
            "  inflating: data/train/dogs/dog.169.jpg  \n",
            "  inflating: data/train/dogs/dog.17.jpg  \n",
            "  inflating: data/train/dogs/dog.170.jpg  \n",
            "  inflating: data/train/dogs/dog.171.jpg  \n",
            "  inflating: data/train/dogs/dog.172.jpg  \n",
            "  inflating: data/train/dogs/dog.173.jpg  \n",
            "  inflating: data/train/dogs/dog.174.jpg  \n",
            "  inflating: data/train/dogs/dog.175.jpg  \n",
            "  inflating: data/train/dogs/dog.176.jpg  \n",
            "  inflating: data/train/dogs/dog.177.jpg  \n",
            "  inflating: data/train/dogs/dog.178.jpg  \n",
            "  inflating: data/train/dogs/dog.179.jpg  \n",
            "  inflating: data/train/dogs/dog.18.jpg  \n",
            "  inflating: data/train/dogs/dog.180.jpg  \n",
            "  inflating: data/train/dogs/dog.19.jpg  \n",
            "  inflating: data/train/dogs/dog.2.jpg  \n",
            "  inflating: data/train/dogs/dog.20.jpg  \n",
            "  inflating: data/train/dogs/dog.21.jpg  \n",
            "  inflating: data/train/dogs/dog.22.jpg  \n",
            "  inflating: data/train/dogs/dog.23.jpg  \n",
            "  inflating: data/train/dogs/dog.24.jpg  \n",
            "  inflating: data/train/dogs/dog.25.jpg  \n",
            "  inflating: data/train/dogs/dog.26.jpg  \n",
            "  inflating: data/train/dogs/dog.27.jpg  \n",
            "  inflating: data/train/dogs/dog.28.jpg  \n",
            "  inflating: data/train/dogs/dog.29.jpg  \n",
            "  inflating: data/train/dogs/dog.3.jpg  \n",
            "  inflating: data/train/dogs/dog.30.jpg  \n",
            "  inflating: data/train/dogs/dog.31.jpg  \n",
            "  inflating: data/train/dogs/dog.32.jpg  \n",
            "  inflating: data/train/dogs/dog.33.jpg  \n",
            "  inflating: data/train/dogs/dog.34.jpg  \n",
            "  inflating: data/train/dogs/dog.35.jpg  \n",
            "  inflating: data/train/dogs/dog.36.jpg  \n",
            "  inflating: data/train/dogs/dog.37.jpg  \n",
            "  inflating: data/train/dogs/dog.38.jpg  \n",
            "  inflating: data/train/dogs/dog.39.jpg  \n",
            "  inflating: data/train/dogs/dog.4.jpg  \n",
            "  inflating: data/train/dogs/dog.40.jpg  \n",
            "  inflating: data/train/dogs/dog.41.jpg  \n",
            "  inflating: data/train/dogs/dog.42.jpg  \n",
            "  inflating: data/train/dogs/dog.43.jpg  \n",
            "  inflating: data/train/dogs/dog.44.jpg  \n",
            "  inflating: data/train/dogs/dog.45.jpg  \n",
            "  inflating: data/train/dogs/dog.46.jpg  \n",
            "  inflating: data/train/dogs/dog.47.jpg  \n",
            "  inflating: data/train/dogs/dog.48.jpg  \n",
            "  inflating: data/train/dogs/dog.49.jpg  \n",
            "  inflating: data/train/dogs/dog.5.jpg  \n",
            "  inflating: data/train/dogs/dog.50.jpg  \n",
            "  inflating: data/train/dogs/dog.51.jpg  \n",
            "  inflating: data/train/dogs/dog.52.jpg  \n",
            "  inflating: data/train/dogs/dog.53.jpg  \n",
            "  inflating: data/train/dogs/dog.54.jpg  \n",
            "  inflating: data/train/dogs/dog.55.jpg  \n",
            "  inflating: data/train/dogs/dog.56.jpg  \n",
            "  inflating: data/train/dogs/dog.57.jpg  \n",
            "  inflating: data/train/dogs/dog.58.jpg  \n",
            "  inflating: data/train/dogs/dog.59.jpg  \n",
            "  inflating: data/train/dogs/dog.6.jpg  \n",
            "  inflating: data/train/dogs/dog.60.jpg  \n",
            "  inflating: data/train/dogs/dog.61.jpg  \n",
            "  inflating: data/train/dogs/dog.62.jpg  \n",
            "  inflating: data/train/dogs/dog.63.jpg  \n",
            "  inflating: data/train/dogs/dog.64.jpg  \n",
            "  inflating: data/train/dogs/dog.65.jpg  \n",
            "  inflating: data/train/dogs/dog.66.jpg  \n",
            "  inflating: data/train/dogs/dog.67.jpg  \n",
            "  inflating: data/train/dogs/dog.68.jpg  \n",
            "  inflating: data/train/dogs/dog.69.jpg  \n",
            "  inflating: data/train/dogs/dog.7.jpg  \n",
            "  inflating: data/train/dogs/dog.70.jpg  \n",
            "  inflating: data/train/dogs/dog.71.jpg  \n",
            "  inflating: data/train/dogs/dog.72.jpg  \n",
            "  inflating: data/train/dogs/dog.73.jpg  \n",
            "  inflating: data/train/dogs/dog.74.jpg  \n",
            "  inflating: data/train/dogs/dog.75.jpg  \n",
            "  inflating: data/train/dogs/dog.76.jpg  \n",
            "  inflating: data/train/dogs/dog.77.jpg  \n",
            "  inflating: data/train/dogs/dog.78.jpg  \n",
            "  inflating: data/train/dogs/dog.79.jpg  \n",
            "  inflating: data/train/dogs/dog.8.jpg  \n",
            "  inflating: data/train/dogs/dog.80.jpg  \n",
            "  inflating: data/train/dogs/dog.81.jpg  \n",
            "  inflating: data/train/dogs/dog.82.jpg  \n",
            "  inflating: data/train/dogs/dog.83.jpg  \n",
            "  inflating: data/train/dogs/dog.84.jpg  \n",
            "  inflating: data/train/dogs/dog.85.jpg  \n",
            "  inflating: data/train/dogs/dog.86.jpg  \n",
            "  inflating: data/train/dogs/dog.87.jpg  \n",
            "  inflating: data/train/dogs/dog.88.jpg  \n",
            "  inflating: data/train/dogs/dog.89.jpg  \n",
            "  inflating: data/train/dogs/dog.9.jpg  \n",
            "  inflating: data/train/dogs/dog.90.jpg  \n",
            "  inflating: data/train/dogs/dog.91.jpg  \n",
            "  inflating: data/train/dogs/dog.92.jpg  \n",
            "  inflating: data/train/dogs/dog.93.jpg  \n",
            "  inflating: data/train/dogs/dog.94.jpg  \n",
            "  inflating: data/train/dogs/dog.95.jpg  \n",
            "  inflating: data/train/dogs/dog.96.jpg  \n",
            "  inflating: data/train/dogs/dog.97.jpg  \n",
            "  inflating: data/train/dogs/dog.98.jpg  \n",
            "  inflating: data/train/dogs/dog.99.jpg  \n",
            "   creating: data/val/\n",
            "   creating: data/val/cats/\n",
            "  inflating: data/val/cats/cat.183.jpg  \n",
            "  inflating: data/val/cats/cat.184.jpg  \n",
            "  inflating: data/val/cats/cat.185.jpg  \n",
            "  inflating: data/val/cats/cat.186.jpg  \n",
            "  inflating: data/val/cats/cat.187.jpg  \n",
            "  inflating: data/val/cats/cat.188.jpg  \n",
            "  inflating: data/val/cats/cat.189.jpg  \n",
            "  inflating: data/val/cats/cat.190.jpg  \n",
            "  inflating: data/val/cats/cat.191.jpg  \n",
            "  inflating: data/val/cats/cat.192.jpg  \n",
            "  inflating: data/val/cats/cat.193.jpg  \n",
            "  inflating: data/val/cats/cat.194.jpg  \n",
            "  inflating: data/val/cats/cat.195.jpg  \n",
            "  inflating: data/val/cats/cat.196.jpg  \n",
            "  inflating: data/val/cats/cat.197.jpg  \n",
            "  inflating: data/val/cats/cat.198.jpg  \n",
            "  inflating: data/val/cats/cat.199.jpg  \n",
            "  inflating: data/val/cats/cat.200.jpg  \n",
            "  inflating: data/val/cats/cat.201.jpg  \n",
            "  inflating: data/val/cats/cat.202.jpg  \n",
            "   creating: data/val/dogs/\n",
            "  inflating: data/val/dogs/dog.177.jpg  \n",
            "  inflating: data/val/dogs/dog.184.jpg  \n",
            "  inflating: data/val/dogs/dog.185.jpg  \n",
            "  inflating: data/val/dogs/dog.186.jpg  \n",
            "  inflating: data/val/dogs/dog.187.jpg  \n",
            "  inflating: data/val/dogs/dog.188.jpg  \n",
            "  inflating: data/val/dogs/dog.189.jpg  \n",
            "  inflating: data/val/dogs/dog.190.jpg  \n",
            "  inflating: data/val/dogs/dog.191.jpg  \n",
            "  inflating: data/val/dogs/dog.192.jpg  \n",
            "  inflating: data/val/dogs/dog.193.jpg  \n",
            "  inflating: data/val/dogs/dog.194.jpg  \n",
            "  inflating: data/val/dogs/dog.195.jpg  \n",
            "  inflating: data/val/dogs/dog.196.jpg  \n",
            "  inflating: data/val/dogs/dog.197.jpg  \n",
            "  inflating: data/val/dogs/dog.198.jpg  \n",
            "  inflating: data/val/dogs/dog.199.jpg  \n",
            "  inflating: data/val/dogs/dog.200.jpg  \n",
            "  inflating: data/val/dogs/dog.201.jpg  \n",
            "  inflating: data/val/dogs/dog.202.jpg  \n"
          ],
          "name": "stdout"
        }
      ]
    },
    {
      "cell_type": "code",
      "metadata": {
        "id": "_Ho7NRc3K2uq"
      },
      "source": [
        "from keras.preprocessing.image import ImageDataGenerator\n",
        "\n",
        "train_datagen = ImageDataGenerator(\n",
        "        rescale=1./255,\n",
        "        shear_range=0.2,\n",
        "        zoom_range=0.2,\n",
        "        horizontal_flip=True)\n",
        "\n",
        "test_datagen = ImageDataGenerator(rescale=1./255)"
      ],
      "execution_count": 8,
      "outputs": []
    },
    {
      "cell_type": "code",
      "metadata": {
        "id": "gE7PFzbTLJ2s",
        "outputId": "495e24d5-e91d-40a6-b745-0c5217ac9ba0",
        "colab": {
          "base_uri": "https://localhost:8080/"
        }
      },
      "source": [
        "training_set = train_datagen.flow_from_directory(\n",
        "        '/content/data/train',\n",
        "        target_size=(128, 128),\n",
        "        batch_size=16,\n",
        "        class_mode='categorical' )\n",
        "label_map = (training_set.class_indices)\n",
        "\n",
        "test_set = test_datagen.flow_from_directory(\n",
        "        '/content/data/val',\n",
        "        target_size=(128, 128),\n",
        "        batch_size=16,\n",
        "        class_mode='categorical')"
      ],
      "execution_count": 9,
      "outputs": [
        {
          "output_type": "stream",
          "text": [
            "Found 360 images belonging to 2 classes.\n",
            "Found 40 images belonging to 2 classes.\n"
          ],
          "name": "stdout"
        }
      ]
    },
    {
      "cell_type": "code",
      "metadata": {
        "id": "Vbjl-HdcLP9J",
        "outputId": "8b3e1438-34ce-4ce9-975c-eca5438f4885",
        "colab": {
          "base_uri": "https://localhost:8080/"
        }
      },
      "source": [
        "history = classifier.fit_generator(\n",
        "        training_set,\n",
        "        steps_per_epoch=20,\n",
        "        epochs=20,        \n",
        "        validation_data=test_set,\n",
        "        validation_steps=100)"
      ],
      "execution_count": 29,
      "outputs": [
        {
          "output_type": "stream",
          "text": [
            "Epoch 1/20\n",
            "20/20 [==============================] - 53s 3s/step - loss: 7.9582 - acc: 0.5063 - val_loss: 8.0349 - val_acc: 0.5015\n",
            "Epoch 2/20\n",
            "20/20 [==============================] - 52s 3s/step - loss: 8.0566 - acc: 0.5002 - val_loss: 8.1073 - val_acc: 0.4970\n",
            "Epoch 3/20\n",
            "20/20 [==============================] - 53s 3s/step - loss: 8.2657 - acc: 0.4872 - val_loss: 8.0348 - val_acc: 0.5015\n",
            "Epoch 4/20\n",
            "20/20 [==============================] - 53s 3s/step - loss: 7.7568 - acc: 0.5188 - val_loss: 8.0229 - val_acc: 0.5022\n",
            "Epoch 5/20\n",
            "20/20 [==============================] - 52s 3s/step - loss: 8.1651 - acc: 0.4934 - val_loss: 8.1194 - val_acc: 0.4963\n",
            "Epoch 6/20\n",
            "20/20 [==============================] - 53s 3s/step - loss: 7.9583 - acc: 0.5062 - val_loss: 8.0348 - val_acc: 0.5015\n",
            "Epoch 7/20\n",
            "20/20 [==============================] - 52s 3s/step - loss: 8.2054 - acc: 0.4909 - val_loss: 8.0590 - val_acc: 0.5000\n",
            "Epoch 8/20\n",
            "20/20 [==============================] - 52s 3s/step - loss: 7.8598 - acc: 0.5124 - val_loss: 8.0590 - val_acc: 0.5000\n",
            "Epoch 9/20\n",
            "20/20 [==============================] - 53s 3s/step - loss: 8.2102 - acc: 0.4906 - val_loss: 8.0590 - val_acc: 0.5000\n",
            "Epoch 10/20\n",
            "20/20 [==============================] - 53s 3s/step - loss: 7.5541 - acc: 0.5313 - val_loss: 8.0590 - val_acc: 0.5000\n",
            "Epoch 11/20\n",
            "20/20 [==============================] - 53s 3s/step - loss: 8.3137 - acc: 0.4842 - val_loss: 8.0590 - val_acc: 0.5000\n",
            "Epoch 12/20\n",
            "20/20 [==============================] - 52s 3s/step - loss: 8.2583 - acc: 0.4876 - val_loss: 8.0590 - val_acc: 0.5000\n",
            "Epoch 13/20\n",
            "20/20 [==============================] - 53s 3s/step - loss: 7.8576 - acc: 0.5125 - val_loss: 8.0590 - val_acc: 0.5000\n",
            "Epoch 14/20\n",
            "20/20 [==============================] - 53s 3s/step - loss: 8.3140 - acc: 0.4842 - val_loss: 8.0711 - val_acc: 0.4993\n",
            "Epoch 15/20\n",
            "20/20 [==============================] - 53s 3s/step - loss: 8.0087 - acc: 0.5031 - val_loss: 8.0469 - val_acc: 0.5008\n",
            "Epoch 16/20\n",
            "20/20 [==============================] - 52s 3s/step - loss: 8.0135 - acc: 0.5028 - val_loss: 8.0832 - val_acc: 0.4985\n",
            "Epoch 17/20\n",
            "20/20 [==============================] - 53s 3s/step - loss: 7.7589 - acc: 0.5186 - val_loss: 8.0229 - val_acc: 0.5022\n",
            "Epoch 18/20\n",
            "20/20 [==============================] - 53s 3s/step - loss: 8.4071 - acc: 0.4784 - val_loss: 8.0712 - val_acc: 0.4992\n",
            "Epoch 19/20\n",
            "20/20 [==============================] - 53s 3s/step - loss: 8.2102 - acc: 0.4906 - val_loss: 8.1073 - val_acc: 0.4970\n",
            "Epoch 20/20\n",
            "20/20 [==============================] - 52s 3s/step - loss: 7.7510 - acc: 0.5191 - val_loss: 7.9987 - val_acc: 0.5037\n"
          ],
          "name": "stdout"
        }
      ]
    },
    {
      "cell_type": "code",
      "metadata": {
        "id": "ORUje_DYSMhh",
        "outputId": "bc9ff480-98a6-4bfb-c1ae-98164340c7dd",
        "colab": {
          "base_uri": "https://localhost:8080/"
        }
      },
      "source": [
        "history"
      ],
      "execution_count": 30,
      "outputs": [
        {
          "output_type": "execute_result",
          "data": {
            "text/plain": [
              "<keras.callbacks.History at 0x7fa590f3e780>"
            ]
          },
          "metadata": {
            "tags": []
          },
          "execution_count": 30
        }
      ]
    },
    {
      "cell_type": "markdown",
      "metadata": {
        "id": "G-guECRmNptR"
      },
      "source": [
        "#Part 3 - Save Model"
      ]
    },
    {
      "cell_type": "code",
      "metadata": {
        "id": "RJ0Qt-hrLEtE",
        "outputId": "94b3e69f-f360-4e09-feeb-e14c408e23ee",
        "colab": {
          "base_uri": "https://localhost:8080/"
        }
      },
      "source": [
        "import h5py\n",
        "\n",
        "classifier.save('saved_model')\n",
        "print('Saved trained model as %s ' % 'saved_model.h5')"
      ],
      "execution_count": 31,
      "outputs": [
        {
          "output_type": "stream",
          "text": [
            "Saved trained model as saved_model.h5 \n"
          ],
          "name": "stdout"
        }
      ]
    },
    {
      "cell_type": "markdown",
      "metadata": {
        "id": "fedLcF1aWbWa"
      },
      "source": [
        "#Part 4 - Visualization"
      ]
    },
    {
      "cell_type": "code",
      "metadata": {
        "id": "2F2e6MsyS0jP",
        "outputId": "6101c68d-eafa-40f7-cc79-5b26e1f8c413",
        "colab": {
          "base_uri": "https://localhost:8080/",
          "height": 295
        }
      },
      "source": [
        "import matplotlib.pyplot as plt\n",
        "\n",
        "# Plot history: MAE\n",
        "plt.plot(history.history['val_acc'], label='Val Accuracy')\n",
        "plt.plot(history.history['val_loss'], label='Val Loss')\n",
        "plt.title('Persormance')\n",
        "plt.ylabel('value')\n",
        "plt.xlabel('No. epoch')\n",
        "plt.legend(loc=\"upper left\")\n",
        "plt.show()"
      ],
      "execution_count": 32,
      "outputs": [
        {
          "output_type": "display_data",
          "data": {
            "image/png": "[encoded data removed]",
            "text/plain": [
              "<Figure size 432x288 with 1 Axes>"
            ]
          },
          "metadata": {
            "tags": [],
            "needs_background": "light"
          }
        }
      ]
    },
    {
      "cell_type": "markdown",
      "metadata": {
        "id": "qgfSa--hXDvc"
      },
      "source": [
        "#"
      ]
    }
  ]
}